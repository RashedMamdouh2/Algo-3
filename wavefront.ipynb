{
 "cells": [
  {
   "cell_type": "code",
   "execution_count": 37,
   "metadata": {},
   "outputs": [],
   "source": [
    "import numpy as np\n",
    "import matplotlib.pyplot as plt\n",
    "import matplotlib.colors as mcolors"
   ]
  },
  {
   "cell_type": "code",
   "execution_count": 38,
   "metadata": {},
   "outputs": [],
   "source": [
    "\n",
    "# Wavefront propagation\n",
    "def find_value_map(value_map, directions, rows, cols):\n",
    "    changed = True\n",
    "    current_value = 2\n",
    "    \n",
    "    while changed:\n",
    "        changed = False\n",
    "        current_value += 1\n",
    "        \n",
    "        # Find all cells with previous value\n",
    "        cells = np.where(value_map == current_value - 1)\n",
    "        \n",
    "        for cell_idx in range(len(cells[0])):\n",
    "            curr_row, curr_col = cells[0][cell_idx], cells[1][cell_idx]\n",
    "            \n",
    "            # Check all neighboring cells\n",
    "            for dr, dc in directions:\n",
    "                new_row, new_col = curr_row + dr, curr_col + dc\n",
    "                \n",
    "                # Check if within bounds and not obstacle\n",
    "                if (0 <= new_row < rows and 0 <= new_col < cols and \n",
    "                    value_map[new_row, new_col] == float('inf')):\n",
    "                    value_map[new_row, new_col] = current_value\n",
    "                    changed = True\n"
   ]
  },
  {
   "cell_type": "code",
   "execution_count": 39,
   "metadata": {},
   "outputs": [],
   "source": [
    "# wavefront back-tracking\n",
    "def find_trajectory(value_map, directions, rows, cols, start_row, start_column, goal_row, goal_col):\n",
    "    # Generate trajectory from start to goal\n",
    "    trajectory = []\n",
    "    curr_pos = (start_row, start_column)\n",
    "    trajectory.append(curr_pos)\n",
    "    \n",
    "    while curr_pos != (goal_row, goal_col):\n",
    "        curr_row, curr_col = curr_pos\n",
    "        min_value = float('inf')\n",
    "        next_pos = None\n",
    "        \n",
    "        # Check all neighbors for minimum value\n",
    "        for dr, dc in directions:\n",
    "            new_row, new_col = curr_row + dr, curr_col + dc\n",
    "            \n",
    "            if (0 <= new_row < rows and 0 <= new_col < cols and \n",
    "                value_map[new_row, new_col] < min_value and \n",
    "                value_map[new_row, new_col] > 1):\n",
    "                min_value = value_map[new_row, new_col]\n",
    "                next_pos = (new_row, new_col)\n",
    "        \n",
    "        if next_pos is None:\n",
    "            raise ValueError(\"No valid path found to goal\")\n",
    "            \n",
    "        curr_pos = next_pos\n",
    "        trajectory.append(curr_pos)\n",
    "    \n",
    "    return trajectory"
   ]
  },
  {
   "cell_type": "code",
   "execution_count": 40,
   "metadata": {},
   "outputs": [],
   "source": [
    "def planner(map_data, start_row, start_column):\n",
    "    \"\"\"\n",
    "    Implements the wavefront planner algorithm to find optimal path to goal\n",
    "    \n",
    "    Args:\n",
    "        map_data (list): 2D list representing the environment\n",
    "        start_row (int): Starting position row\n",
    "        start_column (int): Starting position column\n",
    "    \n",
    "    Returns:\n",
    "        tuple: (value_map, trajectory)\n",
    "            - value_map: 2D array with wavefront values\n",
    "            - trajectory: List of coordinates representing the optimal path\n",
    "    \"\"\"\n",
    "    # Convert input map to numpy array for easier manipulation\n",
    "    map_array = np.array(map_data)\n",
    "    rows, cols = map_array.shape\n",
    "    \n",
    "    # Create value map initialized with high values\n",
    "    value_map = np.full_like(map_array, fill_value=float('inf'), dtype=float)\n",
    "    \n",
    "    # Set obstacles to 1\n",
    "    value_map[map_array == 1] = 1 # o(raws*columns)\n",
    "    \n",
    "    # Find goal position (marked as 2 in original map)\n",
    "    goal_pos = np.where(map_array == 2)\n",
    "    goal_row, goal_col = goal_pos[0][0], goal_pos[1][0]\n",
    "    \n",
    "    # Initialize goal with value 2\n",
    "    value_map[goal_row, goal_col] = 2\n",
    "    \n",
    "    # Define 8-point connectivity movements (prioritized order)\n",
    "    # [up, right, down, left, up-right, down-right, down-left, up-left]\n",
    "    directions = [\n",
    "        (-1, 0), (0, 1), (1, 0), (0, -1),\n",
    "        (-1, 1), (1, 1), (1, -1), (-1, -1)\n",
    "    ]\n",
    "    \n",
    "    find_value_map(value_map, directions, rows, cols)\n",
    "    \n",
    "    trajectory = find_trajectory(value_map, directions, rows, cols, start_row, start_column, goal_row, goal_col)\n",
    "        \n",
    "    return value_map.tolist(), trajectory"
   ]
  },
  {
   "cell_type": "code",
   "execution_count": 41,
   "metadata": {},
   "outputs": [],
   "source": [
    "def visualize_path(map_data, trajectory):\n",
    "    \"\"\"\n",
    "    Visualizes the environment and the planned trajectory\n",
    "    \n",
    "    Args:\n",
    "        map_data (list): 2D list representing the environment\n",
    "        trajectory (list): List of coordinates representing the path\n",
    "    \"\"\"\n",
    "    # plt.figure(figsize=(6, 4))\n",
    "    plt.imshow(map_data, cmap='binary')\n",
    "    \n",
    "    # Plot trajectory\n",
    "    traj_y, traj_x = zip(*trajectory)\n",
    "    plt.plot(traj_x, traj_y, 'r-', linewidth=2, label='Trajectory')\n",
    "    \n",
    "    # plt.grid(True)\n",
    "    plt.axis('off')\n",
    "    plt.legend()\n",
    "    plt.title('Wavefront Planner Path')\n",
    "    plt.show()"
   ]
  },
  {
   "cell_type": "code",
   "execution_count": 53,
   "metadata": {},
   "outputs": [],
   "source": [
    "def plot_map(matrix, trajectory):\n",
    "    \"\"\"\n",
    "    Plots the grid map with a given trajectory path highlighted in red and the goal cell in green.\n",
    "\n",
    "    Args:\n",
    "        matrix (numpy.ndarray): The grid matrix to be plotted.\n",
    "        trajectory (list of tuple): The trajectory path as a list of (row, col) coordinates.\n",
    "    \"\"\"\n",
    "    # Create a copy of the matrix to modify for plotting\n",
    "    plot_matrix = np.zeros_like(matrix, dtype=int)\n",
    "\n",
    "    # Mark cells with value 1 as grey (1 in plot_matrix)\n",
    "    plot_matrix[matrix == 1] = 1\n",
    "\n",
    "    # Mark trajectory cells as red (2 in plot_matrix)\n",
    "    for row, col in trajectory:\n",
    "        plot_matrix[row, col] = 2\n",
    "\n",
    "    # Mark the goal cell as green (3 in plot_matrix)\n",
    "    goal_pos = np.where(matrix == 2)\n",
    "    goal_row, goal_col = goal_pos[0][0], goal_pos[1][0]\n",
    "    plot_matrix[goal_row, goal_col] = 3\n",
    "\n",
    "    # Define the colormap: 0 -> white, 1 -> grey, 2 -> red, 3 -> green\n",
    "    cmap = mcolors.ListedColormap(['white', 'grey', 'red', 'green'])\n",
    "\n",
    "    # Plot the matrix\n",
    "    fig, ax = plt.subplots()\n",
    "    cax = ax.imshow(plot_matrix, cmap=cmap, interpolation='nearest')\n",
    "\n",
    "    # Annotate each cell with its value from the original matrix\n",
    "    rows, cols = matrix.shape\n",
    "    for i in range(rows):\n",
    "        for j in range(cols):\n",
    "            ax.text(j, i, str(int(matrix[i, j])), ha='center', va='center', color='black', fontsize=8)\n",
    "\n",
    "    ax.axis('off')\n",
    "    plt.show()\n"
   ]
  },
  {
   "cell_type": "code",
   "execution_count": 54,
   "metadata": {},
   "outputs": [
    {
     "name": "stdout",
     "output_type": "stream",
     "text": [
      "[(12, 1), (12, 2), (12, 3), (12, 4), (12, 5), (12, 6), (12, 7), (12, 8), (12, 9), (12, 10), (11, 11), (10, 12), (9, 13), (8, 14), (7, 15), (6, 16), (5, 16), (4, 16), (3, 16), (2, 17)]\n"
     ]
    },
    {
     "data": {
      "image/png": "[encoded data removed]",
      "text/plain": [
       "<Figure size 640x480 with 1 Axes>"
      ]
     },
     "metadata": {},
     "output_type": "display_data"
    },
    {
     "data": {
      "image/png": "[encoded data removed]",
      "text/plain": [
       "<Figure size 640x480 with 1 Axes>"
      ]
     },
     "metadata": {},
     "output_type": "display_data"
    }
   ],
   "source": [
    "# Test map from the assignment\n",
    "test_map = [\n",
    "    [1,1,1,1,1,1,1,1,1,1,1,1,1,1,1,1,1,1,1,1],\n",
    "    [1,0,0,0,0,0,1,1,0,0,0,0,0,0,1,1,0,0,0,1],\n",
    "    [1,0,0,0,0,0,1,1,0,0,0,0,0,0,1,1,0,2,0,1],\n",
    "    [1,0,0,0,0,0,1,1,0,0,0,0,0,0,1,1,0,0,0,1],\n",
    "    [1,0,0,0,0,0,1,1,0,0,0,0,0,0,1,1,0,0,0,1],\n",
    "    [1,0,0,0,0,0,1,1,0,0,0,0,0,0,1,1,0,0,0,1],\n",
    "    [1,0,0,0,1,1,1,1,1,0,0,0,0,0,1,1,0,0,0,1],\n",
    "    [1,0,0,0,1,1,1,1,1,0,0,0,0,0,0,0,0,0,0,1],\n",
    "    [1,0,0,0,0,0,0,1,1,0,0,0,0,0,0,0,0,0,0,1],\n",
    "    [1,0,0,0,0,0,0,1,1,0,0,0,0,0,0,0,0,0,0,1],\n",
    "    [1,0,0,0,0,0,0,0,0,0,0,0,0,0,1,0,0,0,0,1],\n",
    "    [1,0,0,0,0,0,0,0,0,0,0,0,0,1,1,0,0,0,0,1],\n",
    "    [1,0,0,0,0,0,0,0,0,0,0,0,1,1,1,0,0,0,0,1],\n",
    "    [1,1,1,1,1,1,1,1,1,1,1,1,1,1,1,1,1,1,1,1]\n",
    "]\n",
    "\n",
    "# Run planner\n",
    "value_map, trajectory = planner(test_map, 12, 1)\n",
    "print(trajectory)\n",
    "# Visualize results\n",
    "visualize_path(test_map, trajectory)\n",
    "plot_map(np.array(value_map), trajectory)"
   ]
  },
  {
   "cell_type": "code",
   "execution_count": null,
   "metadata": {},
   "outputs": [],
   "source": []
  }
 ],
 "metadata": {
  "kernelspec": {
   "display_name": "Python 3",
   "language": "python",
   "name": "python3"
  },
  "language_info": {
   "codemirror_mode": {
    "name": "ipython",
    "version": 3
   },
   "file_extension": ".py",
   "mimetype": "text/x-python",
   "name": "python",
   "nbconvert_exporter": "python",
   "pygments_lexer": "ipython3",
   "version": "3.12.2"
  }
 },
 "nbformat": 4,
 "nbformat_minor": 2
}
